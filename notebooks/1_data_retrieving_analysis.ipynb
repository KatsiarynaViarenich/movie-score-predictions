{
 "cells": [
  {
   "cell_type": "code",
   "execution_count": 1,
   "metadata": {
    "collapsed": true
   },
   "outputs": [],
   "source": [
    "import requests\n",
    "import pandas as pd\n",
    "import sys\n",
    "from time import sleep\n",
    "\n",
    "sys.path.append(\"../\")\n",
    "\n",
    "from api_key import API_key"
   ]
  },
  {
   "cell_type": "markdown",
   "source": [
    "Let's have a look how does the api response look like:"
   ],
   "metadata": {
    "collapsed": false
   }
  },
  {
   "cell_type": "code",
   "execution_count": 3,
   "outputs": [
    {
     "data": {
      "text/plain": "{'page': 1,\n 'results': [{'adult': False,\n   'backdrop_path': '/h8gHn0OzBoaefsYseUByqsmEDMY.jpg',\n   'genre_ids': [28, 53, 80],\n   'id': 603692,\n   'original_language': 'en',\n   'original_title': 'John Wick: Chapter 4',\n   'overview': 'With the price on his head ever increasing, John Wick uncovers a path to defeating The High Table. But before he can earn his freedom, Wick must face off against a new enemy with powerful alliances across the globe and forces that turn old friends into foes.',\n   'popularity': 6448.501,\n   'poster_path': '/vZloFAK7NmvMGKE7VkF5UHaz0I.jpg',\n   'release_date': '2023-03-22',\n   'title': 'John Wick: Chapter 4',\n   'video': False,\n   'vote_average': 8,\n   'vote_count': 2322},\n  {'adult': False,\n   'backdrop_path': '/2klQ1z1fcHGgQPevbEQdkCnzyuS.jpg',\n   'genre_ids': [16, 10751, 12, 14, 35],\n   'id': 502356,\n   'original_language': 'en',\n   'original_title': 'The Super Mario Bros. Movie',\n   'overview': 'While working underground to fix a water main, Brooklyn plumbers—and brothers—Mario and Luigi are transported down a mysterious pipe and wander into a magical new world. But when the brothers are separated, Mario embarks on an epic quest to find Luigi.',\n   'popularity': 4152.91,\n   'poster_path': '/qNBAXBIQlnOThrVvA6mA2B5ggV6.jpg',\n   'release_date': '2023-04-05',\n   'title': 'The Super Mario Bros. Movie',\n   'video': False,\n   'vote_average': 7.8,\n   'vote_count': 3834},\n  {'adult': False,\n   'backdrop_path': '/4t0oBFrJyweYPt0hocW6RUa0b6H.jpg',\n   'genre_ids': [28, 80, 53],\n   'id': 385687,\n   'original_language': 'en',\n   'original_title': 'Fast X',\n   'overview': \"Over many missions and against impossible odds, Dom Toretto and his family have outsmarted, out-nerved and outdriven every foe in their path. Now, they confront the most lethal opponent they've ever faced: A terrifying threat emerging from the shadows of the past who's fueled by blood revenge, and who is determined to shatter this family and destroy everything—and everyone—that Dom loves, forever.\",\n   'popularity': 3105.206,\n   'poster_path': '/1E5baAaEse26fej7uHcjOgEE2t2.jpg',\n   'release_date': '2023-05-17',\n   'title': 'Fast X',\n   'video': False,\n   'vote_average': 7.1,\n   'vote_count': 635},\n  {'adult': False,\n   'backdrop_path': '/pbMbDlOAkVuvnxovBA2ENin59xH.jpg',\n   'genre_ids': [12, 10751, 14, 10749],\n   'id': 447277,\n   'original_language': 'en',\n   'original_title': 'The Little Mermaid',\n   'overview': 'The youngest of King Triton’s daughters, and the most defiant, Ariel longs to find out more about the world beyond the sea, and while visiting the surface, falls for the dashing Prince Eric. With mermaids forbidden to interact with humans, Ariel makes a deal with the evil sea witch, Ursula, which gives her a chance to experience life on land, but ultimately places her life – and her father’s crown – in jeopardy.',\n   'popularity': 2224.581,\n   'poster_path': '/ym1dxyOk4jFcSl4Q2zmRrA5BEEN.jpg',\n   'release_date': '2023-05-18',\n   'title': 'The Little Mermaid',\n   'video': False,\n   'vote_average': 6.1,\n   'vote_count': 306},\n  {'adult': False,\n   'backdrop_path': '/aAgGrfBwna1nO4M2USxwFgK5O0t.jpg',\n   'genre_ids': [53, 27],\n   'id': 713704,\n   'original_language': 'en',\n   'original_title': 'Evil Dead Rise',\n   'overview': 'Three siblings find an ancient vinyl that gives birth to bloodthirsty demons that run amok in a Los Angeles apartment building and thrusts them into a primal battle for survival as they face the most nightmarish version of family imaginable.',\n   'popularity': 1716.973,\n   'poster_path': '/5ik4ATKmNtmJU6AYD0bLm56BCVM.jpg',\n   'release_date': '2023-04-12',\n   'title': 'Evil Dead Rise',\n   'video': False,\n   'vote_average': 7.1,\n   'vote_count': 1425},\n  {'adult': False,\n   'backdrop_path': '/nyZ8e7lRRwdF21NyydRIo0B9AXZ.jpg',\n   'genre_ids': [28, 10752],\n   'id': 840326,\n   'original_language': 'fi',\n   'original_title': 'Sisu',\n   'overview': 'Deep in the wilderness of Lapland, Aatami Korpi is searching for gold but after he stumbles upon Nazi patrol, a breathtaking and gold-hungry chase through the destroyed and mined Lapland wilderness begins.',\n   'popularity': 1788.983,\n   'poster_path': '/ygO9lowFMXWymATCrhoQXd6gCEh.jpg',\n   'release_date': '2022-10-12',\n   'title': 'Sisu',\n   'video': False,\n   'vote_average': 7.5,\n   'vote_count': 494},\n  {'adult': False,\n   'backdrop_path': '/m8JTwHFwX7I7JY5fPe4SjqejWag.jpg',\n   'genre_ids': [28, 12, 878],\n   'id': 640146,\n   'original_language': 'en',\n   'original_title': 'Ant-Man and the Wasp: Quantumania',\n   'overview': \"Super-Hero partners Scott Lang and Hope van Dyne, along with with Hope's parents Janet van Dyne and Hank Pym, and Scott's daughter Cassie Lang, find themselves exploring the Quantum Realm, interacting with strange new creatures and embarking on an adventure that will push them beyond the limits of what they thought possible.\",\n   'popularity': 1432.191,\n   'poster_path': '/qnqGbB22YJ7dSs4o6M7exTpNxPz.jpg',\n   'release_date': '2023-02-15',\n   'title': 'Ant-Man and the Wasp: Quantumania',\n   'video': False,\n   'vote_average': 6.5,\n   'vote_count': 3032},\n  {'adult': False,\n   'backdrop_path': '/51vreLbrGwzAg4WRCHgitWz6Naw.jpg',\n   'genre_ids': [878, 12, 28],\n   'id': 447365,\n   'original_language': 'en',\n   'original_title': 'Guardians of the Galaxy Vol. 3',\n   'overview': 'Peter Quill, still reeling from the loss of Gamora, must rally his team around him to defend the universe along with protecting one of their own. A mission that, if not completed successfully, could quite possibly lead to the end of the Guardians as we know them.',\n   'popularity': 1235.683,\n   'poster_path': '/r2J02Z2OpNTctfOSN1Ydgii51I3.jpg',\n   'release_date': '2023-05-03',\n   'title': 'Guardians of the Galaxy Vol. 3',\n   'video': False,\n   'vote_average': 8.1,\n   'vote_count': 1700},\n  {'adult': False,\n   'backdrop_path': '/T5xXoFqyc9jNXZIbH4Sw0jwWjw.jpg',\n   'genre_ids': [28, 80, 53, 9648],\n   'id': 605886,\n   'original_language': 'en',\n   'original_title': 'To Catch a Killer',\n   'overview': \"Baltimore. New Year's Eve. A talented but troubled police officer is recruited by the FBI's chief investigator to help profile and track down a mass murderer.\",\n   'popularity': 1224.088,\n   'poster_path': '/p5x6QaDMSXba5EPcwReAH2X7drm.jpg',\n   'release_date': '2023-04-06',\n   'title': 'To Catch a Killer',\n   'video': False,\n   'vote_average': 7,\n   'vote_count': 201},\n  {'adult': False,\n   'backdrop_path': '/suw8eyL3YwE4wfzPQ0cLR02k0Gh.jpg',\n   'genre_ids': [878, 12, 28],\n   'id': 76600,\n   'original_language': 'en',\n   'original_title': 'Avatar: The Way of Water',\n   'overview': 'Set more than a decade after the events of the first film, learn the story of the Sully family (Jake, Neytiri, and their kids), the trouble that follows them, the lengths they go to keep each other safe, the battles they fight to stay alive, and the tragedies they endure.',\n   'popularity': 1149.276,\n   'poster_path': '/t6HIqrRAclMCA60NsSmeqe9RmNV.jpg',\n   'release_date': '2022-12-14',\n   'title': 'Avatar: The Way of Water',\n   'video': False,\n   'vote_average': 7.7,\n   'vote_count': 8247},\n  {'adult': False,\n   'backdrop_path': '/i1eghEBiC0gN4KnwuUGC2fNiX1f.jpg',\n   'genre_ids': [28, 53],\n   'id': 552688,\n   'original_language': 'en',\n   'original_title': 'The Mother',\n   'overview': 'A deadly female assassin comes out of hiding to protect the daughter that she gave up years before, while on the run from dangerous men.',\n   'popularity': 1033.189,\n   'poster_path': '/vnRthEZz16Q9VWcP5homkHxyHoy.jpg',\n   'release_date': '2023-05-04',\n   'title': 'The Mother',\n   'video': False,\n   'vote_average': 6.8,\n   'vote_count': 645},\n  {'adult': False,\n   'backdrop_path': '/hiHGRbyTcbZoLsYYkO4QiCLYe34.jpg',\n   'genre_ids': [27, 53],\n   'id': 758323,\n   'original_language': 'en',\n   'original_title': \"The Pope's Exorcist\",\n   'overview': \"Father Gabriele Amorth, Chief Exorcist of the Vatican, investigates a young boy's terrifying possession and ends up uncovering a centuries-old conspiracy the Vatican has desperately tried to keep hidden.\",\n   'popularity': 1076.329,\n   'poster_path': '/4IjRR2OW2itjQWQnmlUzvwLz9DQ.jpg',\n   'release_date': '2023-04-05',\n   'title': \"The Pope's Exorcist\",\n   'video': False,\n   'vote_average': 7.3,\n   'vote_count': 1243},\n  {'adult': False,\n   'backdrop_path': '/nDxJJyA5giRhXx96q1sWbOUjMBI.jpg',\n   'genre_ids': [35, 28, 14],\n   'id': 594767,\n   'original_language': 'en',\n   'original_title': 'Shazam! Fury of the Gods',\n   'overview': 'Billy Batson and his foster siblings, who transform into superheroes by saying \"Shazam!\", are forced to get back into action and fight the Daughters of Atlas, who they must stop from using a weapon that could destroy the world.',\n   'popularity': 909.629,\n   'poster_path': '/A3ZbZsmsvNGdprRi2lKgGEeVLEH.jpg',\n   'release_date': '2023-03-15',\n   'title': 'Shazam! Fury of the Gods',\n   'video': False,\n   'vote_average': 6.8,\n   'vote_count': 1805},\n  {'adult': False,\n   'backdrop_path': '/eTvN54pd83TrSEOz6wbsXEJktCV.jpg',\n   'genre_ids': [10752, 28, 53],\n   'id': 882569,\n   'original_language': 'en',\n   'original_title': \"Guy Ritchie's The Covenant\",\n   'overview': 'During the war in Afghanistan, a local interpreter risks his own life to carry an injured sergeant across miles of grueling terrain.',\n   'popularity': 843.065,\n   'poster_path': '/jZy73aPYrwwhuc37ALgnJUCaTnK.jpg',\n   'release_date': '2023-04-19',\n   'title': \"Guy Ritchie's The Covenant\",\n   'video': False,\n   'vote_average': 7.5,\n   'vote_count': 392},\n  {'adult': False,\n   'backdrop_path': '/mfPfFVhpnGp8bG4IUoBJPUs2xKj.jpg',\n   'genre_ids': [878, 28, 12, 10751],\n   'id': 620705,\n   'original_language': 'en',\n   'original_title': 'Crater',\n   'overview': 'After the death of his father, a boy growing up on a lunar mining colony takes a trip to explore a legendary crater, along with his four best friends, prior to being permanently relocated to another planet.',\n   'popularity': 717.089,\n   'poster_path': '/n8ZpMwYT02XjpQHpSxn1eJw5Zpz.jpg',\n   'release_date': '2023-05-12',\n   'title': 'Crater',\n   'video': False,\n   'vote_average': 6.8,\n   'vote_count': 132},\n  {'adult': False,\n   'backdrop_path': '/qElNES0sHVQcbzvGrTx7ccpGzij.jpg',\n   'genre_ids': [878, 28, 18],\n   'id': 842675,\n   'original_language': 'zh',\n   'original_title': '流浪地球2',\n   'overview': 'A prequel to The Wandering Earth.',\n   'popularity': 668.459,\n   'poster_path': '/pR858ihc6Ls9xohpdRJVjV787ml.jpg',\n   'release_date': '2023-01-22',\n   'title': 'The Wandering Earth II',\n   'video': False,\n   'vote_average': 7.2,\n   'vote_count': 233},\n  {'adult': False,\n   'backdrop_path': '/5i6SjyDbDWqyun8klUuCxrlFbyw.jpg',\n   'genre_ids': [18, 28],\n   'id': 677179,\n   'original_language': 'en',\n   'original_title': 'Creed III',\n   'overview': 'After dominating the boxing world, Adonis Creed has been thriving in both his career and family life. When a childhood friend and former boxing prodigy, Damian Anderson, resurfaces after serving a long sentence in prison, he is eager to prove that he deserves his shot in the ring. The face-off between former friends is more than just a fight. To settle the score, Adonis must put his future on the line to battle Damian — a fighter who has nothing to lose.',\n   'popularity': 792.948,\n   'poster_path': '/cvsXj3I9Q2iyyIo95AecSd1tad7.jpg',\n   'release_date': '2023-03-01',\n   'title': 'Creed III',\n   'video': False,\n   'vote_average': 7.3,\n   'vote_count': 1468},\n  {'adult': False,\n   'backdrop_path': '/b9UCfDzwiWw7mIFsIQR9ZJUeh7q.jpg',\n   'genre_ids': [28, 35, 10749],\n   'id': 868759,\n   'original_language': 'en',\n   'original_title': 'Ghosted',\n   'overview': 'Salt-of-the-earth Cole falls head over heels for enigmatic Sadie — but then makes the shocking discovery that she’s a secret agent. Before they can decide on a second date, Cole and Sadie are swept away on an international adventure to save the world.',\n   'popularity': 654.747,\n   'poster_path': '/liLN69YgoovHVgmlHJ876PKi5Yi.jpg',\n   'release_date': '2023-04-18',\n   'title': 'Ghosted',\n   'video': False,\n   'vote_average': 7,\n   'vote_count': 902},\n  {'adult': False,\n   'backdrop_path': '/wIb43RlPf5iYeoBAYIfxfhpE8NI.jpg',\n   'genre_ids': [28, 53],\n   'id': 1094319,\n   'original_language': 'en',\n   'original_title': 'The Best Man',\n   'overview': \"Mercenaries seize control of a remote resort hotel during a wedding and it's up to the best man, the groom and their drunken best friend to stop the terrorists and save the hostages.\",\n   'popularity': 619.987,\n   'poster_path': '/c9f6mFZqkyz4AD0sxGmynE1pe0v.jpg',\n   'release_date': '2023-04-21',\n   'title': 'The Best Man',\n   'video': False,\n   'vote_average': 6,\n   'vote_count': 51},\n  {'adult': False,\n   'backdrop_path': '/jr8tSoJGj33XLgFBy6lmZhpGQNu.jpg',\n   'genre_ids': [16, 10751, 14, 12, 35],\n   'id': 315162,\n   'original_language': 'en',\n   'original_title': 'Puss in Boots: The Last Wish',\n   'overview': 'Puss in Boots discovers that his passion for adventure has taken its toll: He has burned through eight of his nine lives, leaving him with only one life left. Puss sets out on an epic journey to find the mythical Last Wish and restore his nine lives.',\n   'popularity': 630.732,\n   'poster_path': '/kuf6dutpsT0vSVehic3EZIqkOBt.jpg',\n   'release_date': '2022-12-07',\n   'title': 'Puss in Boots: The Last Wish',\n   'video': False,\n   'vote_average': 8.3,\n   'vote_count': 5621}],\n 'total_pages': 38527,\n 'total_results': 770526}"
     },
     "execution_count": 3,
     "metadata": {},
     "output_type": "execute_result"
    }
   ],
   "source": [
    "url = (\n",
    "    f\"https://api.themoviedb.org/3/discover/movie?page=1&sort_by=popularity.desc&api_key={API_key}\"\n",
    ")\n",
    "requests.get(url).json()"
   ],
   "metadata": {
    "collapsed": false
   }
  },
  {
   "cell_type": "markdown",
   "source": [
    "From those responses we can create a dataframe:"
   ],
   "metadata": {
    "collapsed": false
   }
  },
  {
   "cell_type": "code",
   "execution_count": 6,
   "outputs": [],
   "source": [
    "def create_df(num_rows):\n",
    "    df = pd.DataFrame()\n",
    "    for i in range(1, num_rows + 1):\n",
    "        url = f\"https://api.themoviedb.org/3/discover/movie?page={i}&sort_by=popularity.desc&api_key={API_key}\"\n",
    "        response = requests.get(url).json()\n",
    "        df = pd.concat([df, pd.DataFrame(response[\"results\"])], ignore_index=True)\n",
    "    return df"
   ],
   "metadata": {
    "collapsed": false
   }
  },
  {
   "cell_type": "code",
   "execution_count": 41,
   "outputs": [
    {
     "data": {
      "text/plain": "    adult                     backdrop_path                genre_ids       id  \\\n0   False  /h8gHn0OzBoaefsYseUByqsmEDMY.jpg             [28, 53, 80]   603692   \n1   False  /u4SDPknBWEEOCzPJvL0NwApkQSR.jpg  [16, 10751, 12, 14, 35]   502356   \n2   False  /4t0oBFrJyweYPt0hocW6RUa0b6H.jpg             [28, 80, 53]   385687   \n3   False  /aAgGrfBwna1nO4M2USxwFgK5O0t.jpg                 [53, 27]   713704   \n4   False  /hJoMSAltRx5xvlAXvKyDdugjucJ.jpg   [12, 10751, 14, 10749]   447277   \n..    ...                               ...                      ...      ...   \n95  False  /bF2skCyB5jeJuO26GFaQIGHrMNl.jpg           [27, 9648, 53]  1085103   \n96  False  /7eccX0xay9pDj6ZQvU4cu3whw18.jpg   [16, 14, 27, 28, 9648]  1003579   \n97  False  /cYyUinLXRbQwE4PAt2mQLTGBqti.jpg           [28, 9648, 53]   876969   \n98  False  /nWs0auTqn2UaFGfTKtUE5tlTeBu.jpg          [10751, 35, 14]   668482   \n99  False  /cRdA9xjHBbobw4LJFsQ3j1CgpVq.jpg                     [27]   663712   \n\n   original_language                        original_title  \\\n0                 en                  John Wick: Chapter 4   \n1                 en           The Super Mario Bros. Movie   \n2                 en                                Fast X   \n3                 en                        Evil Dead Rise   \n4                 en                    The Little Mermaid   \n..               ...                                   ...   \n95                en                                 Clock   \n96                en  Batman: The Doom That Came to Gotham   \n97                en                         Assassin Club   \n98                en      Roald Dahl's Matilda the Musical   \n99                en                           Terrifier 2   \n\n                                             overview  popularity  \\\n0   With the price on his head ever increasing, Jo...   10987.655   \n1   While working underground to fix a water main,...    7259.690   \n2   Over many missions and against impossible odds...    4830.683   \n3   Three siblings find an ancient vinyl that give...    3081.735   \n4   The youngest of King Triton’s daughters, and t...    2800.428   \n..                                                ...         ...   \n95  On the eve of her 38th birthday, a woman despe...     259.144   \n96  Explorer Bruce Wayne accidentally unleashes an...     253.968   \n97  In this world of contract killers, Morgan Gain...     257.361   \n98  An extraordinary young girl discovers her supe...     258.402   \n99  After being resurrected by a sinister entity, ...     259.478   \n\n                         poster_path release_date  \\\n0    /vZloFAK7NmvMGKE7VkF5UHaz0I.jpg   2023-03-22   \n1   /qNBAXBIQlnOThrVvA6mA2B5ggV6.jpg   2023-04-05   \n2   /1E5baAaEse26fej7uHcjOgEE2t2.jpg   2023-05-17   \n3   /5ik4ATKmNtmJU6AYD0bLm56BCVM.jpg   2023-04-12   \n4   /ym1dxyOk4jFcSl4Q2zmRrA5BEEN.jpg   2023-05-18   \n..                               ...          ...   \n95  /m6Yt77C9u7Aume9dTJMCSRzWDED.jpg   2023-03-28   \n96  /hrATQE8ScQceohwInaMluluNEaf.jpg   2023-03-10   \n97  /y2d2SBqK33mGOG2CqAYMo3YbWE4.jpg   2023-02-24   \n98  /ga8R3OiOMMgSvZ4cOj8x7prUNYZ.jpg   2022-11-25   \n99  /8gLhu8UFPZfH2Hv11JhTZkb9CVl.jpg   2022-10-06   \n\n                                   title  video  vote_average  vote_count  \n0                   John Wick: Chapter 4  False           8.0        2140  \n1            The Super Mario Bros. Movie  False           7.8        3672  \n2                                 Fast X  False           7.0         548  \n3                         Evil Dead Rise  False           7.1        1371  \n4                     The Little Mermaid  False           6.0         224  \n..                                   ...    ...           ...         ...  \n95                                 Clock  False           5.9          91  \n96  Batman: The Doom That Came to Gotham  False           6.6          91  \n97                         Assassin Club  False           6.6          64  \n98      Roald Dahl's Matilda the Musical  False           6.8         573  \n99                           Terrifier 2  False           6.9        1200  \n\n[100 rows x 14 columns]",
      "text/html": "<div>\n<style scoped>\n    .dataframe tbody tr th:only-of-type {\n        vertical-align: middle;\n    }\n\n    .dataframe tbody tr th {\n        vertical-align: top;\n    }\n\n    .dataframe thead th {\n        text-align: right;\n    }\n</style>\n<table border=\"1\" class=\"dataframe\">\n  <thead>\n    <tr style=\"text-align: right;\">\n      <th></th>\n      <th>adult</th>\n      <th>backdrop_path</th>\n      <th>genre_ids</th>\n      <th>id</th>\n      <th>original_language</th>\n      <th>original_title</th>\n      <th>overview</th>\n      <th>popularity</th>\n      <th>poster_path</th>\n      <th>release_date</th>\n      <th>title</th>\n      <th>video</th>\n      <th>vote_average</th>\n      <th>vote_count</th>\n    </tr>\n  </thead>\n  <tbody>\n    <tr>\n      <th>0</th>\n      <td>False</td>\n      <td>/h8gHn0OzBoaefsYseUByqsmEDMY.jpg</td>\n      <td>[28, 53, 80]</td>\n      <td>603692</td>\n      <td>en</td>\n      <td>John Wick: Chapter 4</td>\n      <td>With the price on his head ever increasing, Jo...</td>\n      <td>10987.655</td>\n      <td>/vZloFAK7NmvMGKE7VkF5UHaz0I.jpg</td>\n      <td>2023-03-22</td>\n      <td>John Wick: Chapter 4</td>\n      <td>False</td>\n      <td>8.0</td>\n      <td>2140</td>\n    </tr>\n    <tr>\n      <th>1</th>\n      <td>False</td>\n      <td>/u4SDPknBWEEOCzPJvL0NwApkQSR.jpg</td>\n      <td>[16, 10751, 12, 14, 35]</td>\n      <td>502356</td>\n      <td>en</td>\n      <td>The Super Mario Bros. Movie</td>\n      <td>While working underground to fix a water main,...</td>\n      <td>7259.690</td>\n      <td>/qNBAXBIQlnOThrVvA6mA2B5ggV6.jpg</td>\n      <td>2023-04-05</td>\n      <td>The Super Mario Bros. Movie</td>\n      <td>False</td>\n      <td>7.8</td>\n      <td>3672</td>\n    </tr>\n    <tr>\n      <th>2</th>\n      <td>False</td>\n      <td>/4t0oBFrJyweYPt0hocW6RUa0b6H.jpg</td>\n      <td>[28, 80, 53]</td>\n      <td>385687</td>\n      <td>en</td>\n      <td>Fast X</td>\n      <td>Over many missions and against impossible odds...</td>\n      <td>4830.683</td>\n      <td>/1E5baAaEse26fej7uHcjOgEE2t2.jpg</td>\n      <td>2023-05-17</td>\n      <td>Fast X</td>\n      <td>False</td>\n      <td>7.0</td>\n      <td>548</td>\n    </tr>\n    <tr>\n      <th>3</th>\n      <td>False</td>\n      <td>/aAgGrfBwna1nO4M2USxwFgK5O0t.jpg</td>\n      <td>[53, 27]</td>\n      <td>713704</td>\n      <td>en</td>\n      <td>Evil Dead Rise</td>\n      <td>Three siblings find an ancient vinyl that give...</td>\n      <td>3081.735</td>\n      <td>/5ik4ATKmNtmJU6AYD0bLm56BCVM.jpg</td>\n      <td>2023-04-12</td>\n      <td>Evil Dead Rise</td>\n      <td>False</td>\n      <td>7.1</td>\n      <td>1371</td>\n    </tr>\n    <tr>\n      <th>4</th>\n      <td>False</td>\n      <td>/hJoMSAltRx5xvlAXvKyDdugjucJ.jpg</td>\n      <td>[12, 10751, 14, 10749]</td>\n      <td>447277</td>\n      <td>en</td>\n      <td>The Little Mermaid</td>\n      <td>The youngest of King Triton’s daughters, and t...</td>\n      <td>2800.428</td>\n      <td>/ym1dxyOk4jFcSl4Q2zmRrA5BEEN.jpg</td>\n      <td>2023-05-18</td>\n      <td>The Little Mermaid</td>\n      <td>False</td>\n      <td>6.0</td>\n      <td>224</td>\n    </tr>\n    <tr>\n      <th>...</th>\n      <td>...</td>\n      <td>...</td>\n      <td>...</td>\n      <td>...</td>\n      <td>...</td>\n      <td>...</td>\n      <td>...</td>\n      <td>...</td>\n      <td>...</td>\n      <td>...</td>\n      <td>...</td>\n      <td>...</td>\n      <td>...</td>\n      <td>...</td>\n    </tr>\n    <tr>\n      <th>95</th>\n      <td>False</td>\n      <td>/bF2skCyB5jeJuO26GFaQIGHrMNl.jpg</td>\n      <td>[27, 9648, 53]</td>\n      <td>1085103</td>\n      <td>en</td>\n      <td>Clock</td>\n      <td>On the eve of her 38th birthday, a woman despe...</td>\n      <td>259.144</td>\n      <td>/m6Yt77C9u7Aume9dTJMCSRzWDED.jpg</td>\n      <td>2023-03-28</td>\n      <td>Clock</td>\n      <td>False</td>\n      <td>5.9</td>\n      <td>91</td>\n    </tr>\n    <tr>\n      <th>96</th>\n      <td>False</td>\n      <td>/7eccX0xay9pDj6ZQvU4cu3whw18.jpg</td>\n      <td>[16, 14, 27, 28, 9648]</td>\n      <td>1003579</td>\n      <td>en</td>\n      <td>Batman: The Doom That Came to Gotham</td>\n      <td>Explorer Bruce Wayne accidentally unleashes an...</td>\n      <td>253.968</td>\n      <td>/hrATQE8ScQceohwInaMluluNEaf.jpg</td>\n      <td>2023-03-10</td>\n      <td>Batman: The Doom That Came to Gotham</td>\n      <td>False</td>\n      <td>6.6</td>\n      <td>91</td>\n    </tr>\n    <tr>\n      <th>97</th>\n      <td>False</td>\n      <td>/cYyUinLXRbQwE4PAt2mQLTGBqti.jpg</td>\n      <td>[28, 9648, 53]</td>\n      <td>876969</td>\n      <td>en</td>\n      <td>Assassin Club</td>\n      <td>In this world of contract killers, Morgan Gain...</td>\n      <td>257.361</td>\n      <td>/y2d2SBqK33mGOG2CqAYMo3YbWE4.jpg</td>\n      <td>2023-02-24</td>\n      <td>Assassin Club</td>\n      <td>False</td>\n      <td>6.6</td>\n      <td>64</td>\n    </tr>\n    <tr>\n      <th>98</th>\n      <td>False</td>\n      <td>/nWs0auTqn2UaFGfTKtUE5tlTeBu.jpg</td>\n      <td>[10751, 35, 14]</td>\n      <td>668482</td>\n      <td>en</td>\n      <td>Roald Dahl's Matilda the Musical</td>\n      <td>An extraordinary young girl discovers her supe...</td>\n      <td>258.402</td>\n      <td>/ga8R3OiOMMgSvZ4cOj8x7prUNYZ.jpg</td>\n      <td>2022-11-25</td>\n      <td>Roald Dahl's Matilda the Musical</td>\n      <td>False</td>\n      <td>6.8</td>\n      <td>573</td>\n    </tr>\n    <tr>\n      <th>99</th>\n      <td>False</td>\n      <td>/cRdA9xjHBbobw4LJFsQ3j1CgpVq.jpg</td>\n      <td>[27]</td>\n      <td>663712</td>\n      <td>en</td>\n      <td>Terrifier 2</td>\n      <td>After being resurrected by a sinister entity, ...</td>\n      <td>259.478</td>\n      <td>/8gLhu8UFPZfH2Hv11JhTZkb9CVl.jpg</td>\n      <td>2022-10-06</td>\n      <td>Terrifier 2</td>\n      <td>False</td>\n      <td>6.9</td>\n      <td>1200</td>\n    </tr>\n  </tbody>\n</table>\n<p>100 rows × 14 columns</p>\n</div>"
     },
     "execution_count": 41,
     "metadata": {},
     "output_type": "execute_result"
    }
   ],
   "source": [
    "df = create_df(5)\n",
    "df"
   ],
   "metadata": {
    "collapsed": false
   }
  },
  {
   "cell_type": "markdown",
   "source": [
    "But is this amount of information enough? To my mind, it's not. So let's have a look at another useful endpoint provided by TMDB:"
   ],
   "metadata": {
    "collapsed": false
   }
  },
  {
   "cell_type": "code",
   "execution_count": 42,
   "outputs": [
    {
     "data": {
      "text/plain": "{'adult': False,\n 'backdrop_path': '/h8gHn0OzBoaefsYseUByqsmEDMY.jpg',\n 'belongs_to_collection': {'id': 404609,\n  'name': 'John Wick Collection',\n  'poster_path': '/xUidyvYFsbbuExifLkslpcd8SMc.jpg',\n  'backdrop_path': '/fSwYa5q2xRkBoOOjueLpkLf3N1m.jpg'},\n 'budget': 90000000,\n 'genres': [{'id': 28, 'name': 'Action'},\n  {'id': 53, 'name': 'Thriller'},\n  {'id': 80, 'name': 'Crime'}],\n 'homepage': 'https://johnwick.movie',\n 'id': 603692,\n 'imdb_id': 'tt10366206',\n 'original_language': 'en',\n 'original_title': 'John Wick: Chapter 4',\n 'overview': 'With the price on his head ever increasing, John Wick uncovers a path to defeating The High Table. But before he can earn his freedom, Wick must face off against a new enemy with powerful alliances across the globe and forces that turn old friends into foes.',\n 'popularity': 10987.655,\n 'poster_path': '/vZloFAK7NmvMGKE7VkF5UHaz0I.jpg',\n 'production_companies': [{'id': 3528,\n   'logo_path': '/cCzCClIzIh81Fa79hpW5nXoUsHK.png',\n   'name': 'Thunder Road',\n   'origin_country': 'US'},\n  {'id': 23008,\n   'logo_path': '/5SarYupipdiejsEqUkwu1SpYfru.png',\n   'name': '87Eleven',\n   'origin_country': 'US'},\n  {'id': 491,\n   'logo_path': '/5LvDUt3KmvRnXQ4NrdWJYHeuA8J.png',\n   'name': 'Summit Entertainment',\n   'origin_country': 'US'},\n  {'id': 264,\n   'logo_path': '/fA90qwUKgPhMONqtwY60GaHRyrW.png',\n   'name': 'Studio Babelsberg',\n   'origin_country': 'DE'}],\n 'production_countries': [{'iso_3166_1': 'DE', 'name': 'Germany'},\n  {'iso_3166_1': 'US', 'name': 'United States of America'}],\n 'release_date': '2023-03-22',\n 'revenue': 426769198,\n 'runtime': 170,\n 'spoken_languages': [{'english_name': 'Cantonese',\n   'iso_639_1': 'cn',\n   'name': '广州话 / 廣州話'},\n  {'english_name': 'French', 'iso_639_1': 'fr', 'name': 'Français'},\n  {'english_name': 'English', 'iso_639_1': 'en', 'name': 'English'},\n  {'english_name': 'Spanish', 'iso_639_1': 'es', 'name': 'Español'},\n  {'english_name': 'Italian', 'iso_639_1': 'it', 'name': 'Italiano'},\n  {'english_name': 'Japanese', 'iso_639_1': 'ja', 'name': '日本語'},\n  {'english_name': 'Latin', 'iso_639_1': 'la', 'name': 'Latin'},\n  {'english_name': 'Russian', 'iso_639_1': 'ru', 'name': 'Pусский'}],\n 'status': 'Released',\n 'tagline': 'No way back, one way out.',\n 'title': 'John Wick: Chapter 4',\n 'video': False,\n 'vote_average': 8.008,\n 'vote_count': 2145}"
     },
     "execution_count": 42,
     "metadata": {},
     "output_type": "execute_result"
    }
   ],
   "source": [
    "url = f\"https://api.themoviedb.org/3/movie/603692?api_key={API_key}\"\n",
    "response = requests.get(url).json()\n",
    "response"
   ],
   "metadata": {
    "collapsed": false
   }
  },
  {
   "cell_type": "code",
   "execution_count": 43,
   "outputs": [
    {
     "data": {
      "text/plain": "dict_keys(['adult', 'backdrop_path', 'belongs_to_collection', 'budget', 'genres', 'homepage', 'id', 'imdb_id', 'original_language', 'original_title', 'overview', 'popularity', 'poster_path', 'production_companies', 'production_countries', 'release_date', 'revenue', 'runtime', 'spoken_languages', 'status', 'tagline', 'title', 'video', 'vote_average', 'vote_count'])"
     },
     "execution_count": 43,
     "metadata": {},
     "output_type": "execute_result"
    }
   ],
   "source": [
    "columns = response.keys()\n",
    "columns"
   ],
   "metadata": {
    "collapsed": false
   }
  },
  {
   "cell_type": "markdown",
   "source": [
    "That looks quite better. Let's create a function that will return a dataframe with all the information we need."
   ],
   "metadata": {
    "collapsed": false
   }
  },
  {
   "cell_type": "code",
   "execution_count": 44,
   "outputs": [],
   "source": [
    "def enrich_df(df):\n",
    "    counter_to_sleep = 0\n",
    "    details_df = pd.DataFrame(columns=columns)\n",
    "\n",
    "    for id in df[\"id\"]:\n",
    "        url = f\"https://api.themoviedb.org/3/movie/{id}?api_key={API_key}\"\n",
    "        data = requests.get(url).json()\n",
    "        new_row = pd.Series(data)\n",
    "        details_df = details_df.append(new_row, ignore_index=True)\n",
    "\n",
    "        counter_to_sleep += 1\n",
    "        if counter_to_sleep % 40 == 0:\n",
    "            sleep(1)\n",
    "    exclude_columns = set(df.columns) & set(details_df.columns)\n",
    "    df_concat = pd.concat([df.drop(columns=exclude_columns), details_df], axis=1)\n",
    "    return df_concat"
   ],
   "metadata": {
    "collapsed": false
   }
  },
  {
   "cell_type": "code",
   "execution_count": 45,
   "outputs": [],
   "source": [
    "merged_df = enrich_df(df)"
   ],
   "metadata": {
    "collapsed": false
   }
  },
  {
   "cell_type": "code",
   "execution_count": 46,
   "outputs": [
    {
     "data": {
      "text/plain": "                  genre_ids  adult                     backdrop_path  \\\n0              [28, 53, 80]  False  /h8gHn0OzBoaefsYseUByqsmEDMY.jpg   \n1   [16, 10751, 12, 14, 35]  False  /9n2tJBplPbgR2ca05hS5CKXwP2c.jpg   \n2              [28, 80, 53]  False  /4t0oBFrJyweYPt0hocW6RUa0b6H.jpg   \n3                  [53, 27]  False  /aAgGrfBwna1nO4M2USxwFgK5O0t.jpg   \n4    [12, 10751, 14, 10749]  False  /hJoMSAltRx5xvlAXvKyDdugjucJ.jpg   \n..                      ...    ...                               ...   \n95           [27, 9648, 53]  False  /bF2skCyB5jeJuO26GFaQIGHrMNl.jpg   \n96   [16, 14, 27, 28, 9648]  False  /7eccX0xay9pDj6ZQvU4cu3whw18.jpg   \n97           [28, 9648, 53]  False  /cYyUinLXRbQwE4PAt2mQLTGBqti.jpg   \n98          [10751, 35, 14]  False  /nWs0auTqn2UaFGfTKtUE5tlTeBu.jpg   \n99                     [27]  False  /cRdA9xjHBbobw4LJFsQ3j1CgpVq.jpg   \n\n                                belongs_to_collection     budget  \\\n0   {'id': 404609, 'name': 'John Wick Collection',...   90000000   \n1                                                None  100000000   \n2   {'id': 9485, 'name': 'The Fast and the Furious...  340000000   \n3                                                None   15000000   \n4                                                None  250000000   \n..                                                ...        ...   \n95                                               None          0   \n96                                               None          0   \n97                                               None          0   \n98                                               None   25000000   \n99  {'id': 727761, 'name': 'Terrifier Collection',...     250000   \n\n                                               genres  \\\n0   [{'id': 28, 'name': 'Action'}, {'id': 53, 'nam...   \n1   [{'id': 16, 'name': 'Animation'}, {'id': 10751...   \n2   [{'id': 28, 'name': 'Action'}, {'id': 80, 'nam...   \n3   [{'id': 53, 'name': 'Thriller'}, {'id': 27, 'n...   \n4   [{'id': 12, 'name': 'Adventure'}, {'id': 10751...   \n..                                                ...   \n95  [{'id': 27, 'name': 'Horror'}, {'id': 9648, 'n...   \n96  [{'id': 16, 'name': 'Animation'}, {'id': 14, '...   \n97  [{'id': 28, 'name': 'Action'}, {'id': 9648, 'n...   \n98  [{'id': 10751, 'name': 'Family'}, {'id': 35, '...   \n99                     [{'id': 27, 'name': 'Horror'}]   \n\n                                             homepage       id     imdb_id  \\\n0                              https://johnwick.movie   603692  tt10366206   \n1                 https://www.thesupermariobros.movie   502356   tt6718170   \n2                              https://fastxmovie.com   385687   tt5433140   \n3                   https://www.evildeadrisemovie.com   713704  tt13345606   \n4   https://movies.disney.com/the-little-mermaid-2023   447277   tt5971474   \n..                                                ...      ...         ...   \n95  https://www.hulu.com/movie/99647742-42aa-4911-...  1085103  tt17219484   \n96                                                     1003579  tt24223450   \n97                                                      876969   tt7720142   \n98  https://www.sonypictures.co.uk/movies/roald-da...   668482   tt3447590   \n99                 http://www.terrifier2themovie.com/   663712  tt10403420   \n\n   original_language  ... release_date     revenue  runtime  \\\n0                 en  ...   2023-03-22   426769198      170   \n1                 en  ...   2023-04-05  1277704603       92   \n2                 en  ...   2023-05-17   512000000      142   \n3                 en  ...   2023-04-12   139512122       96   \n4                 en  ...   2023-05-18   185800000      135   \n..               ...  ...          ...         ...      ...   \n95                en  ...   2023-03-28           0       92   \n96                en  ...   2023-03-10           0       86   \n97                en  ...   2023-02-24           0      113   \n98                en  ...   2022-11-25    13276499      117   \n99                en  ...   2022-10-06    12400000      138   \n\n                                     spoken_languages    status  \\\n0   [{'english_name': 'Cantonese', 'iso_639_1': 'c...  Released   \n1   [{'english_name': 'English', 'iso_639_1': 'en'...  Released   \n2   [{'english_name': 'Italian', 'iso_639_1': 'it'...  Released   \n3   [{'english_name': 'English', 'iso_639_1': 'en'...  Released   \n4   [{'english_name': 'English', 'iso_639_1': 'en'...  Released   \n..                                                ...       ...   \n95  [{'english_name': 'English', 'iso_639_1': 'en'...  Released   \n96  [{'english_name': 'English', 'iso_639_1': 'en'...  Released   \n97  [{'english_name': 'English', 'iso_639_1': 'en'...  Released   \n98  [{'english_name': 'English', 'iso_639_1': 'en'...  Released   \n99  [{'english_name': 'English', 'iso_639_1': 'en'...  Released   \n\n                                              tagline  \\\n0                           No way back, one way out.   \n1                                                       \n2                         The end of the road begins.   \n3                           Mommy loves you to death.   \n4   Watch and you'll see, some day I'll be, part o...   \n..                                                ...   \n95                   It’s counting down for a reason.   \n96                                                      \n97                                 Kill or be killed.   \n98                   Meet the exception to the rules.   \n99                                Who's laughing now?   \n\n                                   title  video vote_average vote_count  \n0                   John Wick: Chapter 4  False        8.008       2145  \n1            The Super Mario Bros. Movie  False        7.769       3675  \n2                                 Fast X  False        7.021        550  \n3                         Evil Dead Rise  False        7.061       1369  \n4                     The Little Mermaid  False        6.000        233  \n..                                   ...    ...          ...        ...  \n95                                 Clock  False        5.923         91  \n96  Batman: The Doom That Came to Gotham  False        6.604         91  \n97                         Assassin Club  False        6.563         64  \n98      Roald Dahl's Matilda the Musical  False        6.800        573  \n99                           Terrifier 2  False        6.905       1201  \n\n[100 rows x 26 columns]",
      "text/html": "<div>\n<style scoped>\n    .dataframe tbody tr th:only-of-type {\n        vertical-align: middle;\n    }\n\n    .dataframe tbody tr th {\n        vertical-align: top;\n    }\n\n    .dataframe thead th {\n        text-align: right;\n    }\n</style>\n<table border=\"1\" class=\"dataframe\">\n  <thead>\n    <tr style=\"text-align: right;\">\n      <th></th>\n      <th>genre_ids</th>\n      <th>adult</th>\n      <th>backdrop_path</th>\n      <th>belongs_to_collection</th>\n      <th>budget</th>\n      <th>genres</th>\n      <th>homepage</th>\n      <th>id</th>\n      <th>imdb_id</th>\n      <th>original_language</th>\n      <th>...</th>\n      <th>release_date</th>\n      <th>revenue</th>\n      <th>runtime</th>\n      <th>spoken_languages</th>\n      <th>status</th>\n      <th>tagline</th>\n      <th>title</th>\n      <th>video</th>\n      <th>vote_average</th>\n      <th>vote_count</th>\n    </tr>\n  </thead>\n  <tbody>\n    <tr>\n      <th>0</th>\n      <td>[28, 53, 80]</td>\n      <td>False</td>\n      <td>/h8gHn0OzBoaefsYseUByqsmEDMY.jpg</td>\n      <td>{'id': 404609, 'name': 'John Wick Collection',...</td>\n      <td>90000000</td>\n      <td>[{'id': 28, 'name': 'Action'}, {'id': 53, 'nam...</td>\n      <td>https://johnwick.movie</td>\n      <td>603692</td>\n      <td>tt10366206</td>\n      <td>en</td>\n      <td>...</td>\n      <td>2023-03-22</td>\n      <td>426769198</td>\n      <td>170</td>\n      <td>[{'english_name': 'Cantonese', 'iso_639_1': 'c...</td>\n      <td>Released</td>\n      <td>No way back, one way out.</td>\n      <td>John Wick: Chapter 4</td>\n      <td>False</td>\n      <td>8.008</td>\n      <td>2145</td>\n    </tr>\n    <tr>\n      <th>1</th>\n      <td>[16, 10751, 12, 14, 35]</td>\n      <td>False</td>\n      <td>/9n2tJBplPbgR2ca05hS5CKXwP2c.jpg</td>\n      <td>None</td>\n      <td>100000000</td>\n      <td>[{'id': 16, 'name': 'Animation'}, {'id': 10751...</td>\n      <td>https://www.thesupermariobros.movie</td>\n      <td>502356</td>\n      <td>tt6718170</td>\n      <td>en</td>\n      <td>...</td>\n      <td>2023-04-05</td>\n      <td>1277704603</td>\n      <td>92</td>\n      <td>[{'english_name': 'English', 'iso_639_1': 'en'...</td>\n      <td>Released</td>\n      <td></td>\n      <td>The Super Mario Bros. Movie</td>\n      <td>False</td>\n      <td>7.769</td>\n      <td>3675</td>\n    </tr>\n    <tr>\n      <th>2</th>\n      <td>[28, 80, 53]</td>\n      <td>False</td>\n      <td>/4t0oBFrJyweYPt0hocW6RUa0b6H.jpg</td>\n      <td>{'id': 9485, 'name': 'The Fast and the Furious...</td>\n      <td>340000000</td>\n      <td>[{'id': 28, 'name': 'Action'}, {'id': 80, 'nam...</td>\n      <td>https://fastxmovie.com</td>\n      <td>385687</td>\n      <td>tt5433140</td>\n      <td>en</td>\n      <td>...</td>\n      <td>2023-05-17</td>\n      <td>512000000</td>\n      <td>142</td>\n      <td>[{'english_name': 'Italian', 'iso_639_1': 'it'...</td>\n      <td>Released</td>\n      <td>The end of the road begins.</td>\n      <td>Fast X</td>\n      <td>False</td>\n      <td>7.021</td>\n      <td>550</td>\n    </tr>\n    <tr>\n      <th>3</th>\n      <td>[53, 27]</td>\n      <td>False</td>\n      <td>/aAgGrfBwna1nO4M2USxwFgK5O0t.jpg</td>\n      <td>None</td>\n      <td>15000000</td>\n      <td>[{'id': 53, 'name': 'Thriller'}, {'id': 27, 'n...</td>\n      <td>https://www.evildeadrisemovie.com</td>\n      <td>713704</td>\n      <td>tt13345606</td>\n      <td>en</td>\n      <td>...</td>\n      <td>2023-04-12</td>\n      <td>139512122</td>\n      <td>96</td>\n      <td>[{'english_name': 'English', 'iso_639_1': 'en'...</td>\n      <td>Released</td>\n      <td>Mommy loves you to death.</td>\n      <td>Evil Dead Rise</td>\n      <td>False</td>\n      <td>7.061</td>\n      <td>1369</td>\n    </tr>\n    <tr>\n      <th>4</th>\n      <td>[12, 10751, 14, 10749]</td>\n      <td>False</td>\n      <td>/hJoMSAltRx5xvlAXvKyDdugjucJ.jpg</td>\n      <td>None</td>\n      <td>250000000</td>\n      <td>[{'id': 12, 'name': 'Adventure'}, {'id': 10751...</td>\n      <td>https://movies.disney.com/the-little-mermaid-2023</td>\n      <td>447277</td>\n      <td>tt5971474</td>\n      <td>en</td>\n      <td>...</td>\n      <td>2023-05-18</td>\n      <td>185800000</td>\n      <td>135</td>\n      <td>[{'english_name': 'English', 'iso_639_1': 'en'...</td>\n      <td>Released</td>\n      <td>Watch and you'll see, some day I'll be, part o...</td>\n      <td>The Little Mermaid</td>\n      <td>False</td>\n      <td>6.000</td>\n      <td>233</td>\n    </tr>\n    <tr>\n      <th>...</th>\n      <td>...</td>\n      <td>...</td>\n      <td>...</td>\n      <td>...</td>\n      <td>...</td>\n      <td>...</td>\n      <td>...</td>\n      <td>...</td>\n      <td>...</td>\n      <td>...</td>\n      <td>...</td>\n      <td>...</td>\n      <td>...</td>\n      <td>...</td>\n      <td>...</td>\n      <td>...</td>\n      <td>...</td>\n      <td>...</td>\n      <td>...</td>\n      <td>...</td>\n      <td>...</td>\n    </tr>\n    <tr>\n      <th>95</th>\n      <td>[27, 9648, 53]</td>\n      <td>False</td>\n      <td>/bF2skCyB5jeJuO26GFaQIGHrMNl.jpg</td>\n      <td>None</td>\n      <td>0</td>\n      <td>[{'id': 27, 'name': 'Horror'}, {'id': 9648, 'n...</td>\n      <td>https://www.hulu.com/movie/99647742-42aa-4911-...</td>\n      <td>1085103</td>\n      <td>tt17219484</td>\n      <td>en</td>\n      <td>...</td>\n      <td>2023-03-28</td>\n      <td>0</td>\n      <td>92</td>\n      <td>[{'english_name': 'English', 'iso_639_1': 'en'...</td>\n      <td>Released</td>\n      <td>It’s counting down for a reason.</td>\n      <td>Clock</td>\n      <td>False</td>\n      <td>5.923</td>\n      <td>91</td>\n    </tr>\n    <tr>\n      <th>96</th>\n      <td>[16, 14, 27, 28, 9648]</td>\n      <td>False</td>\n      <td>/7eccX0xay9pDj6ZQvU4cu3whw18.jpg</td>\n      <td>None</td>\n      <td>0</td>\n      <td>[{'id': 16, 'name': 'Animation'}, {'id': 14, '...</td>\n      <td></td>\n      <td>1003579</td>\n      <td>tt24223450</td>\n      <td>en</td>\n      <td>...</td>\n      <td>2023-03-10</td>\n      <td>0</td>\n      <td>86</td>\n      <td>[{'english_name': 'English', 'iso_639_1': 'en'...</td>\n      <td>Released</td>\n      <td></td>\n      <td>Batman: The Doom That Came to Gotham</td>\n      <td>False</td>\n      <td>6.604</td>\n      <td>91</td>\n    </tr>\n    <tr>\n      <th>97</th>\n      <td>[28, 9648, 53]</td>\n      <td>False</td>\n      <td>/cYyUinLXRbQwE4PAt2mQLTGBqti.jpg</td>\n      <td>None</td>\n      <td>0</td>\n      <td>[{'id': 28, 'name': 'Action'}, {'id': 9648, 'n...</td>\n      <td></td>\n      <td>876969</td>\n      <td>tt7720142</td>\n      <td>en</td>\n      <td>...</td>\n      <td>2023-02-24</td>\n      <td>0</td>\n      <td>113</td>\n      <td>[{'english_name': 'English', 'iso_639_1': 'en'...</td>\n      <td>Released</td>\n      <td>Kill or be killed.</td>\n      <td>Assassin Club</td>\n      <td>False</td>\n      <td>6.563</td>\n      <td>64</td>\n    </tr>\n    <tr>\n      <th>98</th>\n      <td>[10751, 35, 14]</td>\n      <td>False</td>\n      <td>/nWs0auTqn2UaFGfTKtUE5tlTeBu.jpg</td>\n      <td>None</td>\n      <td>25000000</td>\n      <td>[{'id': 10751, 'name': 'Family'}, {'id': 35, '...</td>\n      <td>https://www.sonypictures.co.uk/movies/roald-da...</td>\n      <td>668482</td>\n      <td>tt3447590</td>\n      <td>en</td>\n      <td>...</td>\n      <td>2022-11-25</td>\n      <td>13276499</td>\n      <td>117</td>\n      <td>[{'english_name': 'English', 'iso_639_1': 'en'...</td>\n      <td>Released</td>\n      <td>Meet the exception to the rules.</td>\n      <td>Roald Dahl's Matilda the Musical</td>\n      <td>False</td>\n      <td>6.800</td>\n      <td>573</td>\n    </tr>\n    <tr>\n      <th>99</th>\n      <td>[27]</td>\n      <td>False</td>\n      <td>/cRdA9xjHBbobw4LJFsQ3j1CgpVq.jpg</td>\n      <td>{'id': 727761, 'name': 'Terrifier Collection',...</td>\n      <td>250000</td>\n      <td>[{'id': 27, 'name': 'Horror'}]</td>\n      <td>http://www.terrifier2themovie.com/</td>\n      <td>663712</td>\n      <td>tt10403420</td>\n      <td>en</td>\n      <td>...</td>\n      <td>2022-10-06</td>\n      <td>12400000</td>\n      <td>138</td>\n      <td>[{'english_name': 'English', 'iso_639_1': 'en'...</td>\n      <td>Released</td>\n      <td>Who's laughing now?</td>\n      <td>Terrifier 2</td>\n      <td>False</td>\n      <td>6.905</td>\n      <td>1201</td>\n    </tr>\n  </tbody>\n</table>\n<p>100 rows × 26 columns</p>\n</div>"
     },
     "execution_count": 46,
     "metadata": {},
     "output_type": "execute_result"
    }
   ],
   "source": [
    "merged_df"
   ],
   "metadata": {
    "collapsed": false
   }
  }
 ],
 "metadata": {
  "kernelspec": {
   "display_name": "Python 3",
   "language": "python",
   "name": "python3"
  },
  "language_info": {
   "codemirror_mode": {
    "name": "ipython",
    "version": 2
   },
   "file_extension": ".py",
   "mimetype": "text/x-python",
   "name": "python",
   "nbconvert_exporter": "python",
   "pygments_lexer": "ipython2",
   "version": "2.7.6"
  }
 },
 "nbformat": 4,
 "nbformat_minor": 0
}
